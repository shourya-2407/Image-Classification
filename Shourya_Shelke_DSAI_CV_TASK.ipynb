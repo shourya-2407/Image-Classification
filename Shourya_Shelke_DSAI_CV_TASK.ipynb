{
  "nbformat": 4,
  "nbformat_minor": 0,
  "metadata": {
    "colab": {
      "name": "Shourya_Shelke_DSAI-CV-TASK.ipynb",
      "provenance": [],
      "collapsed_sections": [],
      "include_colab_link": true
    },
    "kernelspec": {
      "name": "python3",
      "display_name": "Python 3"
    },
    "accelerator": "GPU"
  },
  "cells": [
    {
      "cell_type": "markdown",
      "metadata": {
        "id": "view-in-github",
        "colab_type": "text"
      },
      "source": [
        "<a href=\"https://colab.research.google.com/github/shourya-2407/Image-Classification/blob/master/Shourya_Shelke_DSAI_CV_TASK.ipynb\" target=\"_parent\"><img src=\"https://colab.research.google.com/assets/colab-badge.svg\" alt=\"Open In Colab\"/></a>"
      ]
    },
    {
      "cell_type": "markdown",
      "metadata": {
        "id": "Hy3H3J6TUC5Z",
        "colab_type": "text"
      },
      "source": [
        "## COMPUTER VISION TASK - DSAI INDUCTIONS 2020 "
      ]
    },
    {
      "cell_type": "markdown",
      "metadata": {
        "id": "6rXJn7C2SfK_",
        "colab_type": "text"
      },
      "source": [
        "This Notebook contains starter code for the Computer Vision Task for DSAI Inductions. We have used PyTorch here, but you are free to use any relevant Deep Learning framework like TensorFlow,Trax; However PyTorch is now like the international research standard for Deep Learning, so using PyTorch for the task would be appreciated.  "
      ]
    },
    {
      "cell_type": "markdown",
      "metadata": {
        "id": "Zoj8rfF1UPNu",
        "colab_type": "text"
      },
      "source": [
        "The task involves classification of images on the SVHN classification dataset.\n",
        "SVHN stands for Street View House Numbers. Similar to MNIST, SVHN classification is a digit recognition task. Answer classes range from 0 to 9.\n",
        "You should prepare a model and report test set accuracy and submit the following to us for evaluation:\n",
        "\n",
        "For PyTorch Users:\n",
        "1. model.pt file  \n",
        "2. model.py file\n",
        "3. link to Colab notebook\n",
        "\n",
        "For Tensorflow Users:\n",
        "1. .h5 file of model and weights\n",
        "2. link to Colab notebook\n",
        "\n",
        "The colab notebook should have proper comments describing the code.\n",
        "\n",
        "Note: There are 2 variants of SVHN available on the internet. One involving Bounding Box Detection + Classification and the second involving only classification. We are only concerned with the latter (i.e. Classification only dataset). It is also refered to as svhn_cropped in alternate texts."
      ]
    },
    {
      "cell_type": "code",
      "metadata": {
        "id": "M1-mmIjCSOTs",
        "colab_type": "code",
        "colab": {}
      },
      "source": [
        "\n",
        "import torch\n",
        "import torchvision\n",
        "import torchvision.transforms as transforms\n",
        "import torchvision.datasets as datasets\n",
        "import matplotlib.pyplot as plt\n",
        "import scipy.io as sio\n",
        "\n",
        "# Necessary Imports to run this starter code"
      ],
      "execution_count": null,
      "outputs": []
    },
    {
      "cell_type": "code",
      "metadata": {
        "id": "TBuQz0qlnQ8k",
        "colab_type": "code",
        "colab": {}
      },
      "source": [
        "transform = transforms.Compose([\n",
        "                    \n",
        "                    transforms.ToTensor(),\n",
        "                    transforms.Normalize((0.5, 0.5, 0.5), (0.5, 0.5, 0.5))])\n",
        "\n",
        "#Transforms to convert Image --> Tensor"
      ],
      "execution_count": null,
      "outputs": []
    },
    {
      "cell_type": "code",
      "metadata": {
        "id": "piNvp6iPnRib",
        "colab_type": "code",
        "colab": {
          "base_uri": "https://localhost:8080/",
          "height": 52
        },
        "outputId": "2a51dcd5-5b8a-4bee-95ce-8dfcf8440516"
      },
      "source": [
        "trainset  = torchvision.datasets.SVHN('./data', split='train',download=True,transform=transform)\n",
        "testset =  torchvision.datasets.SVHN('./data', split='test',download=True,transform=transform)\n",
        "\n",
        "# Download Train and Test Dataset"
      ],
      "execution_count": null,
      "outputs": [
        {
          "output_type": "stream",
          "text": [
            "Using downloaded and verified file: ./data/train_32x32.mat\n",
            "Using downloaded and verified file: ./data/test_32x32.mat\n"
          ],
          "name": "stdout"
        }
      ]
    },
    {
      "cell_type": "code",
      "metadata": {
        "id": "QKofjc_6nav_",
        "colab_type": "code",
        "colab": {}
      },
      "source": [
        "train_loader = torch.utils.data.DataLoader(dataset=testset,\n",
        "                                              batch_size=64,\n",
        "                                              shuffle=True,\n",
        "                                              )\n",
        "test_loader = torch.utils.data.DataLoader(dataset=trainset,\n",
        "                                              batch_size=64,\n",
        "                                              shuffle=True,\n",
        "                                              )\n",
        "# Set up the dataloaders to be used in training and testing"
      ],
      "execution_count": null,
      "outputs": []
    },
    {
      "cell_type": "code",
      "metadata": {
        "id": "6E4LzN11pFfZ",
        "colab_type": "code",
        "colab": {
          "base_uri": "https://localhost:8080/",
          "height": 283
        },
        "outputId": "e81f0a20-2935-4e09-e2f1-9d545f221499"
      },
      "source": [
        "# Optional Code just for visualization\n",
        "\n",
        "image_ind = 98  # Any index you want to visualize\n",
        "train_data = sio.loadmat('./data/train_32x32.mat')\n",
        "\n",
        "# access to the dict\n",
        "x_train = train_data['X']\n",
        "y_train = train_data['y']\n",
        "\n",
        "# show sample\n",
        "plt.imshow(x_train[:,:,:,image_ind])\n",
        "plt.show()\n",
        "\n",
        "\n",
        "print(\"Label : \", y_train[image_ind].item())"
      ],
      "execution_count": null,
      "outputs": [
        {
          "output_type": "display_data",
          "data": {
            "image/png": "[encoded data removed]",
            "text/plain": [
              "<Figure size 432x288 with 1 Axes>"
            ]
          },
          "metadata": {
            "tags": [],
            "needs_background": "light"
          }
        },
        {
          "output_type": "stream",
          "text": [
            "Label :  2\n"
          ],
          "name": "stdout"
        }
      ]
    },
    {
      "cell_type": "markdown",
      "metadata": {
        "id": "pBXvQFPVcRFT",
        "colab_type": "text"
      },
      "source": [
        "#**USING KERAS**"
      ]
    },
    {
      "cell_type": "markdown",
      "metadata": {
        "id": "ixnvuk6AMzSW",
        "colab_type": "text"
      },
      "source": [
        "##**Important Libraries**"
      ]
    },
    {
      "cell_type": "code",
      "metadata": {
        "id": "9gcPs9nQTjnS",
        "colab_type": "code",
        "colab": {}
      },
      "source": [
        "# Libraries\n",
        "import keras\n",
        "from keras.models import Sequential, load_model\n",
        "from keras.layers import Dense, Dropout, Activation, BatchNormalization, Flatten\n",
        "from keras.layers.convolutional import Convolution2D, MaxPooling2D\n",
        "from keras.optimizers import SGD, Adadelta, Adagrad\n",
        "from sklearn.model_selection import train_test_split\n",
        "from scipy.io import loadmat\n",
        "import numpy as np \n",
        "import pandas as pd\n",
        "import tensorflow as tf\n",
        "from tensorflow.keras.callbacks import  TensorBoard\n",
        "import matplotlib.pyplot as plt\n",
        "from google.colab import drive\n",
        "import time"
      ],
      "execution_count": null,
      "outputs": []
    },
    {
      "cell_type": "code",
      "metadata": {
        "id": "CuO3KOzaTjgD",
        "colab_type": "code",
        "colab": {}
      },
      "source": [
        "NAME = 'SVHN_CNN-{}'.format(int(time.time()))\n",
        "tensorboard = TensorBoard(log_dir='drive/My Drive/Colab Notebooks/logs/{}'.format(NAME))\n"
      ],
      "execution_count": null,
      "outputs": []
    },
    {
      "cell_type": "code",
      "metadata": {
        "id": "JZdLFOqHTjY2",
        "colab_type": "code",
        "colab": {
          "base_uri": "https://localhost:8080/",
          "height": 54
        },
        "outputId": "0b746e35-9fe1-4535-dea4-2b55970ff392"
      },
      "source": [
        "drive.mount('/content/drive')"
      ],
      "execution_count": null,
      "outputs": [
        {
          "output_type": "stream",
          "text": [
            "Drive already mounted at /content/drive; to attempt to forcibly remount, call drive.mount(\"/content/drive\", force_remount=True).\n"
          ],
          "name": "stdout"
        }
      ]
    },
    {
      "cell_type": "code",
      "metadata": {
        "id": "o6-PUlNFXZ7U",
        "colab_type": "code",
        "colab": {
          "base_uri": "https://localhost:8080/",
          "height": 34
        },
        "outputId": "4df93024-69df-48ca-ddf7-0c4c1761413e"
      },
      "source": [
        "drive.mount(\"/content/drive\", force_remount=True)"
      ],
      "execution_count": null,
      "outputs": [
        {
          "output_type": "stream",
          "text": [
            "Mounted at /content/drive\n"
          ],
          "name": "stdout"
        }
      ]
    },
    {
      "cell_type": "markdown",
      "metadata": {
        "id": "3Xkygmb_XgQV",
        "colab_type": "text"
      },
      "source": [
        "\n",
        "#Data Processing\n",
        "#Uploading the dataset"
      ]
    },
    {
      "cell_type": "code",
      "metadata": {
        "id": "Dy1h2Y6jXZ3L",
        "colab_type": "code",
        "colab": {}
      },
      "source": [
        "train_data = loadmat('drive/My Drive/Colab Notebooks/train_32x32.mat')\n",
        "test_data = loadmat ('drive/My Drive/Colab Notebooks/test_32x32.mat')"
      ],
      "execution_count": null,
      "outputs": []
    },
    {
      "cell_type": "markdown",
      "metadata": {
        "id": "ralmhCGMch-r",
        "colab_type": "text"
      },
      "source": [
        "##**Data Normalization**"
      ]
    },
    {
      "cell_type": "code",
      "metadata": {
        "id": "zYM18k46XZ1o",
        "colab_type": "code",
        "colab": {}
      },
      "source": [
        "# Splitting train and test data into X and y\n",
        "X_train, y_train = train_data['X'], train_data['y']\n",
        "X_test, y_test = test_data['X'], test_data['y']\n",
        "X_train, X_test = X_train / 255.0, X_test / 255.0\n",
        "\n"
      ],
      "execution_count": null,
      "outputs": []
    },
    {
      "cell_type": "markdown",
      "metadata": {
        "id": "cKtPFGXecqCR",
        "colab_type": "text"
      },
      "source": [
        "###**Transposing the image arrays**"
      ]
    },
    {
      "cell_type": "code",
      "metadata": {
        "id": "7er7S9GvXZyf",
        "colab_type": "code",
        "colab": {}
      },
      "source": [
        "X_train, y_train = X_train.transpose((3,0,1,2)), y_train[:,0]\n",
        "X_test, y_test = X_test.transpose((3,0,1,2)), y_test[:,0]\n",
        "\n"
      ],
      "execution_count": null,
      "outputs": []
    },
    {
      "cell_type": "code",
      "metadata": {
        "id": "FsIlWTdaXZwL",
        "colab_type": "code",
        "colab": {}
      },
      "source": [
        "#Converting class \"10\" to class \"0\"\n",
        "y_train[y_train == 10] = 0\n",
        "y_test[y_test == 10] = 0\n"
      ],
      "execution_count": null,
      "outputs": []
    },
    {
      "cell_type": "markdown",
      "metadata": {
        "id": "X8m2NP-Ec6VK",
        "colab_type": "text"
      },
      "source": [
        "##**Training Dataset Splitting**"
      ]
    },
    {
      "cell_type": "code",
      "metadata": {
        "id": "g94vxw4mXZtI",
        "colab_type": "code",
        "colab": {}
      },
      "source": [
        "y_train = tf.keras.utils.to_categorical(y_train, num_classes = 10)"
      ],
      "execution_count": null,
      "outputs": []
    },
    {
      "cell_type": "code",
      "metadata": {
        "id": "JjvFJOg-XZqw",
        "colab_type": "code",
        "colab": {}
      },
      "source": [
        "X_train, X_val, y_train, y_val = train_test_split (X_train, y_train, test_size = 0.2, random_state = 0)"
      ],
      "execution_count": null,
      "outputs": []
    },
    {
      "cell_type": "markdown",
      "metadata": {
        "id": "20X6QrHydB5H",
        "colab_type": "text"
      },
      "source": [
        "##**MODEL**"
      ]
    },
    {
      "cell_type": "code",
      "metadata": {
        "id": "-98z49LwmL5L",
        "colab_type": "code",
        "colab": {}
      },
      "source": [
        "from google.colab import drive\n",
        "drive.mount('/content/drive')"
      ],
      "execution_count": null,
      "outputs": []
    },
    {
      "cell_type": "code",
      "metadata": {
        "id": "zvq7ARFTXZpJ",
        "colab_type": "code",
        "colab": {}
      },
      "source": [
        "model = Sequential()\n",
        "\n",
        "# First Layer\n",
        "model.add(Convolution2D(32, [3, 3], input_shape=(32, 32, 3), padding='same'))\n",
        "model.add(Activation('relu'))\n",
        "model.add(BatchNormalization())\n",
        "\n",
        "# Second Layer\n",
        "model.add(Convolution2D(32, [3, 3]))\n",
        "model.add(Activation('relu'))\n",
        "model.add(BatchNormalization())\n",
        "model.add(MaxPooling2D(pool_size=(2, 2)))\n",
        "\n",
        "# Third Layer\n",
        "model.add(Dropout(0.25))\n",
        "model.add(Convolution2D(64, [3, 3], padding='same'))\n",
        "model.add(Activation('relu'))\n",
        "model.add(BatchNormalization())\n",
        "\n",
        "# Fourth Layer\n",
        "model.add(Convolution2D(64, [3, 3]))\n",
        "model.add(Activation('relu'))\n",
        "model.add(BatchNormalization())\n",
        "model.add(MaxPooling2D(pool_size=(2, 2)))\n",
        "\n",
        "# Fifth Layer\n",
        "model.add(Dropout(0.25))\n",
        "model.add(Flatten())\n",
        "model.add(BatchNormalization())\n",
        "model.add(Dense(200))\n",
        "\n",
        "# Output Layer\n",
        "model.add(Activation('relu'))\n",
        "model.add(BatchNormalization())\n",
        "model.add(Dropout(0.25))\n",
        "model.add(Dense(10))\n",
        "model.add(Activation('softmax'))\n",
        "\n",
        "sgd = SGD(lr=0.01, decay=1e-6, momentum=0.9, nesterov=True)\n",
        "model.compile(loss='categorical_crossentropy', optimizer=sgd,metrics=['accuracy'])\n"
      ],
      "execution_count": null,
      "outputs": []
    },
    {
      "cell_type": "code",
      "metadata": {
        "id": "yIllL2aIXZlH",
        "colab_type": "code",
        "colab": {
          "base_uri": "https://localhost:8080/",
          "height": 402
        },
        "outputId": "514dfc23-8b57-415f-81eb-f3775e0730a5"
      },
      "source": [
        "model.fit(X_train, y_train, validation_data= (X_val, y_val), batch_size = 128, epochs= 10, verbose= 1, callbacks=[tensorboard])"
      ],
      "execution_count": null,
      "outputs": [
        {
          "output_type": "stream",
          "text": [
            "Epoch 1/10\n",
            "458/458 [==============================] - 5s 12ms/step - loss: 0.8724 - accuracy: 0.7254 - val_loss: 0.4378 - val_accuracy: 0.8696\n",
            "Epoch 2/10\n",
            "458/458 [==============================] - 5s 10ms/step - loss: 0.4541 - accuracy: 0.8611 - val_loss: 0.3400 - val_accuracy: 0.8984\n",
            "Epoch 3/10\n",
            "458/458 [==============================] - 5s 10ms/step - loss: 0.3866 - accuracy: 0.8824 - val_loss: 0.3111 - val_accuracy: 0.9070\n",
            "Epoch 4/10\n",
            "458/458 [==============================] - 5s 10ms/step - loss: 0.3466 - accuracy: 0.8936 - val_loss: 0.2808 - val_accuracy: 0.9191\n",
            "Epoch 5/10\n",
            "458/458 [==============================] - 5s 11ms/step - loss: 0.3143 - accuracy: 0.9043 - val_loss: 0.2721 - val_accuracy: 0.9212\n",
            "Epoch 6/10\n",
            "458/458 [==============================] - 5s 10ms/step - loss: 0.2884 - accuracy: 0.9135 - val_loss: 0.3424 - val_accuracy: 0.8952\n",
            "Epoch 7/10\n",
            "458/458 [==============================] - 5s 11ms/step - loss: 0.2757 - accuracy: 0.9163 - val_loss: 0.2462 - val_accuracy: 0.9309\n",
            "Epoch 8/10\n",
            "458/458 [==============================] - 5s 10ms/step - loss: 0.2566 - accuracy: 0.9221 - val_loss: 0.2489 - val_accuracy: 0.9300\n",
            "Epoch 9/10\n",
            "458/458 [==============================] - 5s 10ms/step - loss: 0.2408 - accuracy: 0.9274 - val_loss: 0.2354 - val_accuracy: 0.9337\n",
            "Epoch 10/10\n",
            "458/458 [==============================] - 5s 10ms/step - loss: 0.2266 - accuracy: 0.9315 - val_loss: 0.2336 - val_accuracy: 0.9329\n"
          ],
          "name": "stdout"
        },
        {
          "output_type": "execute_result",
          "data": {
            "text/plain": [
              "<tensorflow.python.keras.callbacks.History at 0x7f8f5fee42b0>"
            ]
          },
          "metadata": {
            "tags": []
          },
          "execution_count": 128
        }
      ]
    },
    {
      "cell_type": "markdown",
      "metadata": {
        "id": "lI411mKodR81",
        "colab_type": "text"
      },
      "source": [
        "##**EVALUATION**"
      ]
    },
    {
      "cell_type": "code",
      "metadata": {
        "id": "EBR43uowYEHF",
        "colab_type": "code",
        "colab": {}
      },
      "source": [
        "y_test = tf.keras.utils.to_categorical(y_test, num_classes = 10)"
      ],
      "execution_count": null,
      "outputs": []
    },
    {
      "cell_type": "code",
      "metadata": {
        "id": "LzrfEpKNYD_-",
        "colab_type": "code",
        "colab": {
          "base_uri": "https://localhost:8080/",
          "height": 34
        },
        "outputId": "f76ac723-3c58-4ffc-ee8e-75f6901abfef"
      },
      "source": [
        "val_loss, val_acc = model.evaluate (X_test, y_test)"
      ],
      "execution_count": null,
      "outputs": [
        {
          "output_type": "stream",
          "text": [
            "814/814 [==============================] - 3s 3ms/step - loss: 0.2540 - accuracy: 0.9276\n"
          ],
          "name": "stdout"
        }
      ]
    },
    {
      "cell_type": "code",
      "metadata": {
        "id": "Ns_Xjd-aYD38",
        "colab_type": "code",
        "colab": {
          "base_uri": "https://localhost:8080/",
          "height": 34
        },
        "outputId": "31390752-a345-46b5-b832-365d0777b8c2"
      },
      "source": [
        "print(val_loss)\n"
      ],
      "execution_count": null,
      "outputs": [
        {
          "output_type": "stream",
          "text": [
            "0.25397789478302\n"
          ],
          "name": "stdout"
        }
      ]
    },
    {
      "cell_type": "code",
      "metadata": {
        "id": "nvY_bWaMYTgW",
        "colab_type": "code",
        "colab": {
          "base_uri": "https://localhost:8080/",
          "height": 34
        },
        "outputId": "15b3df14-c6a2-46ac-c691-08aff3913396"
      },
      "source": [
        "print(val_acc)"
      ],
      "execution_count": null,
      "outputs": [
        {
          "output_type": "stream",
          "text": [
            "0.9276275634765625\n"
          ],
          "name": "stdout"
        }
      ]
    },
    {
      "cell_type": "code",
      "metadata": {
        "id": "r4J6cdgkYfw_",
        "colab_type": "code",
        "colab": {}
      },
      "source": [
        "!mkdir -p saved_model\n",
        "model.save('saved_model/my_model') \n"
      ],
      "execution_count": null,
      "outputs": []
    },
    {
      "cell_type": "code",
      "metadata": {
        "id": "dvPhkMYylZro",
        "colab_type": "code",
        "colab": {
          "base_uri": "https://localhost:8080/",
          "height": 34
        },
        "outputId": "b5707f5f-100d-4924-e44a-0ff09c19b9b3"
      },
      "source": [
        "!ls saved_model/my_model"
      ],
      "execution_count": null,
      "outputs": [
        {
          "output_type": "stream",
          "text": [
            "assets\tsaved_model.pb\tvariables\n"
          ],
          "name": "stdout"
        }
      ]
    },
    {
      "cell_type": "markdown",
      "metadata": {
        "id": "R_AGF1wVsDTp",
        "colab_type": "text"
      },
      "source": [
        "#Click on the share button in the top right corner of this notebook, copy the link and send it to us along with the other files"
      ]
    },
    {
      "cell_type": "markdown",
      "metadata": {
        "id": "dpMor1z7s_1D",
        "colab_type": "text"
      },
      "source": [
        "Refer to [this](https://colab.research.google.com/drive/1OYAbJ_t8ZAIjy4aT_mFgPGkhRPB2X5Iy?usp=sharing) notebook for a complete working example of Image Classification on MNIST.\n",
        "Save a copy in your google drive account"
      ]
    },
    {
      "cell_type": "markdown",
      "metadata": {
        "id": "BWvJkPpBti0a",
        "colab_type": "text"
      },
      "source": [
        "For Tensorflow(Keras) users, refer to this [link](https://www.tensorflow.org/guide/keras/save_and_serialize) for saving the .h5 file"
      ]
    },
    {
      "cell_type": "markdown",
      "metadata": {
        "id": "VCDP54Matvo4",
        "colab_type": "text"
      },
      "source": [
        "Hints to solve the task:\n",
        "1. Refer to the DSAI Session 1 recording [here](https://web.microsoftstream.com/video/9616fbd1-f2ec-4c7f-82d3-c8192719d482)\n",
        "2. CNNs work very well for Image Classification tasks\n",
        "3. CNNs are data hungry, more the data better the accuracy."
      ]
    },
    {
      "cell_type": "markdown",
      "metadata": {
        "id": "0L5ed7eu9O1B",
        "colab_type": "text"
      },
      "source": [
        "For any questions related to the task, Contact :\n",
        "1. Shaunak Halbe\n",
        "2. Ph : 7588170950 (Whatsapp No.)\n",
        "3. E-mail: halbesa18.comp@coep.ac.in"
      ]
    },
    {
      "cell_type": "code",
      "metadata": {
        "id": "1mx9YNZ69dn7",
        "colab_type": "code",
        "colab": {}
      },
      "source": [
        ""
      ],
      "execution_count": null,
      "outputs": []
    }
  ]
}